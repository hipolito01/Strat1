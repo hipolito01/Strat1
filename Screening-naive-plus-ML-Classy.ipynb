{
 "cells": [
  {
   "cell_type": "code",
   "execution_count": 1,
   "metadata": {
    "collapsed": false
   },
   "outputs": [
    {
     "name": "stderr",
     "output_type": "stream",
     "text": [
      "C:\\Users\\hipo\\Anaconda3\\lib\\site-packages\\sklearn\\cross_validation.py:44: DeprecationWarning: This module was deprecated in version 0.18 in favor of the model_selection module into which all the refactored classes and functions are moved. Also note that the interface of the new CV iterators are different from that of this module. This module will be removed in 0.20.\n",
      "  \"This module will be removed in 0.20.\", DeprecationWarning)\n"
     ]
    }
   ],
   "source": [
    "import pandas as pd\n",
    "import datetime as dt\n",
    "import numpy as np\n",
    "from sklearn import cross_validation\n",
    "import random\n",
    "import math\n",
    "from pnl_metrics import *\n",
    "import matplotlib.pyplot as plt\n",
    "#from pandas_datareader import data as web\n",
    "import scipy as scipy\n",
    "import math as math\n",
    "\n",
    "\n",
    "from features import *\n",
    "from labels import *\n",
    "from column_names import *\n",
    "from computing_returns import *\n",
    "from cross_sectional_MR_naive_plus_ML import *\n",
    "\n",
    "from EnsembleClassifier import *#class for ensembles (lo baje de internet hace mucho)\n",
    "\n",
    "\n",
    "%matplotlib inline \n",
    "%load_ext autoreload\n",
    "%autoreload 2"
   ]
  },
  {
   "cell_type": "code",
   "execution_count": null,
   "metadata": {
    "collapsed": true
   },
   "outputs": [],
   "source": []
  },
  {
   "cell_type": "code",
   "execution_count": 2,
   "metadata": {
    "collapsed": true
   },
   "outputs": [],
   "source": [
    "#---------------------------------------------------------------\n",
    "#-------------LOADING DATA FROM DATABASE------------------------\n",
    "#---------------------------------------------------------------\n",
    "\n",
    "country='canada'\n",
    "\n",
    "#database: one file for each feature (open, high, low, close, volume)\n",
    "database_close='Database/' + country + '/' + country +  '_close.csv'\n",
    "database_high='Database/' + country + '/' + country +  '_high.csv'\n",
    "database_low='Database/' + country + '/' + country +  '_low.csv'\n",
    "database_volume='Database/' + country + '/' + country +  '_volume.csv'\n",
    "\n",
    "\n",
    "stock_list_file='Database/' + country + '/' + country +  '_stocks.csv'\n",
    "\n",
    "#_____________LOADING THE DATA________________\n",
    "\n",
    "pd.options.display.float_format = '{:,.2f}'.format#format to display\n",
    "\n",
    "#List of stocks\n",
    "stock_list=pd.read_csv(stock_list_file)#list of stocks\n",
    "\n",
    "#cuando guardo manualmente los archivos de database el format de la fechas se arruina -->tengo q usar el parser de abajo\n",
    "#dateparse = lambda x: pd.datetime.strptime(x, '%m/%d/%Y')\n",
    "#date_parser=dateparse,-->dentro del pd.read_csv\n",
    "\n",
    "#Prices\n",
    "dataClose = pd.read_csv(database_close, parse_dates=['Date'],   \n",
    "                        index_col=0, dayfirst = True)#one column for each stock-->Indexed by dates (column 0=stock 0) \n",
    "\n",
    "dataHigh = pd.read_csv(database_high, parse_dates=['Date'],   \n",
    "                        index_col=0, dayfirst = True)#one column for each stock-->Indexed by dates (column 0=stock 0) \n",
    "\n",
    "dataLow = pd.read_csv(database_low, parse_dates=['Date'],   \n",
    "                        index_col=0, dayfirst = True)#one column for each stock-->Indexed by dates (column 0=stock 0)\n",
    "\n",
    "dataVolume = pd.read_csv(database_volume, parse_dates=['Date'],   \n",
    "                        index_col=0, dayfirst = True)#one column for each stock-->Indexed by dates (column 0=stock 0) "
   ]
  },
  {
   "cell_type": "markdown",
   "metadata": {},
   "source": [
    "DEFINING MODELS AND BACKTESTING PERIODS"
   ]
  },
  {
   "cell_type": "code",
   "execution_count": 5,
   "metadata": {
    "collapsed": true
   },
   "outputs": [],
   "source": [
    "#definition of Models/Classifiers\n",
    "\n",
    "from sklearn.linear_model import LogisticRegression\n",
    "from sklearn.ensemble import RandomForestClassifier\n",
    "from sklearn import svm\n",
    "from sklearn.naive_bayes import MultinomialNB\n",
    "from sklearn.ensemble import AdaBoostClassifier\n",
    "from sklearn.metrics import accuracy_score\n",
    "from sklearn.tree import DecisionTreeClassifier\n",
    "from sklearn.cross_validation import train_test_split\n",
    "from sklearn import cross_validation\n",
    "from sklearn.cross_validation import cross_val_score\n",
    "\n",
    "bdt_real = AdaBoostClassifier(DecisionTreeClassifier(max_depth=2),n_estimators=600,learning_rate=1)\n",
    "gnb = MultinomialNB()\n",
    "cl_RF=RandomForestClassifier(random_state=1)\n",
    "cl_LR=LogisticRegression(random_state=1)\n",
    "clf_svm = svm.SVC(decision_function_shape='ovo', probability=True)\n",
    "\n",
    "cl_production=cl_RF\n",
    "\n",
    "#ENSEMBLE 2: 4 CLASSIFIERS\n",
    "#cl_production = EnsembleClassifier(clfs=[bdt_real, clf_svm,cl_RF,cl_LR], weights=[1,1,1,1])\n",
    "#cl_production = EnsembleClassifier(clfs=[clf_svm,cl_RF,cl_LR], weights=[1,1,1])"
   ]
  },
  {
   "cell_type": "code",
   "execution_count": 6,
   "metadata": {
    "collapsed": true
   },
   "outputs": [],
   "source": [
    "#-----------------Parameters------------------------#\n",
    "#----Study Window-----\n",
    "#Used to reduce data (window needs to be larger than backtesting period to allow for features collection)\n",
    "data_start='2013-01-01'\n",
    "data_end='2017-06-27'\n",
    "\n",
    "\n",
    "backtest_start='2016-01-01'\n",
    "backtest_end='2017-06-26'\n",
    "#\"train window\" is the number of days used to train the model \n",
    "#then the trained model is applied during the following \"test window\"-->rolling system\n",
    "train_window=80\n",
    "test_window=5"
   ]
  },
  {
   "cell_type": "markdown",
   "metadata": {},
   "source": [
    "SELECTING GROUP OF STOCKS"
   ]
  },
  {
   "cell_type": "code",
   "execution_count": 7,
   "metadata": {
    "collapsed": true
   },
   "outputs": [],
   "source": [
    "#stock_ids=[0,1,2]\n",
    "option=1"
   ]
  },
  {
   "cell_type": "code",
   "execution_count": 14,
   "metadata": {
    "collapsed": true
   },
   "outputs": [],
   "source": [
    "list_of_groups = pd.read_csv('groups3.csv')#one column for each stock-->Indexed by dates (column 0=stock 0) \n"
   ]
  },
  {
   "cell_type": "code",
   "execution_count": 15,
   "metadata": {
    "collapsed": true
   },
   "outputs": [],
   "source": [
    "#index_=range(11)\n",
    "index_=['PnL','CAGR','Sharpe Ratio','Max Drawdown','Calmar','Max Drawdown Duration','Traded Days %',\n",
    "              'Winner Days %','Avg Trade','Avg Win', 'Avg Loss']\n",
    "columns_=range(list_of_groups.shape[0])\n",
    "#columns_=strat1.results_table_df.index\n",
    "results_table=pd.DataFrame(index=index_,columns=columns_)"
   ]
  },
  {
   "cell_type": "code",
   "execution_count": null,
   "metadata": {
    "collapsed": true
   },
   "outputs": [],
   "source": [
    "for i in range(list_of_groups.shape[0]):\n",
    "    stock_ids=list(eval(list_of_groups.ix[i,0]))\n",
    "    strat1=cross_sectional_MR_naive_plus_ML(dataClose,dataHigh,dataLow,dataVolume,cl_production, stock_list,\n",
    "                 data_start,data_end,backtest_start,backtest_end, train_window, test_window,\n",
    "                 stock_ids, option)\n",
    "    strat1.cleaning_data()\n",
    "    strat1.features()\n",
    "    strat1.labels()\n",
    "    strat1.cleaning_features_and_labels()\n",
    "    strat1.training_and_predicting()\n",
    "    strat1.computing_returns()\n",
    "    #saving results\n",
    "    results_table.ix[:,i]=strat1.results_table_df.ix[:,0]"
   ]
  },
  {
   "cell_type": "code",
   "execution_count": null,
   "metadata": {
    "collapsed": true
   },
   "outputs": [],
   "source": []
  },
  {
   "cell_type": "code",
   "execution_count": 13,
   "metadata": {
    "collapsed": false
   },
   "outputs": [
    {
     "data": {
      "text/html": [
       "<div>\n",
       "<table border=\"1\" class=\"dataframe\">\n",
       "  <thead>\n",
       "    <tr style=\"text-align: right;\">\n",
       "      <th></th>\n",
       "      <th>0</th>\n",
       "      <th>1</th>\n",
       "      <th>2</th>\n",
       "      <th>3</th>\n",
       "      <th>4</th>\n",
       "      <th>5</th>\n",
       "      <th>6</th>\n",
       "      <th>7</th>\n",
       "      <th>8</th>\n",
       "      <th>9</th>\n",
       "      <th>...</th>\n",
       "      <th>104</th>\n",
       "      <th>105</th>\n",
       "      <th>106</th>\n",
       "      <th>107</th>\n",
       "      <th>108</th>\n",
       "      <th>109</th>\n",
       "      <th>110</th>\n",
       "      <th>111</th>\n",
       "      <th>112</th>\n",
       "      <th>113</th>\n",
       "    </tr>\n",
       "  </thead>\n",
       "  <tbody>\n",
       "    <tr>\n",
       "      <th>PnL</th>\n",
       "      <td>0.16</td>\n",
       "      <td>0.39</td>\n",
       "      <td>0.37</td>\n",
       "      <td>0.30</td>\n",
       "      <td>0.28</td>\n",
       "      <td>0.27</td>\n",
       "      <td>0.27</td>\n",
       "      <td>0.81</td>\n",
       "      <td>0.25</td>\n",
       "      <td>0.22</td>\n",
       "      <td>...</td>\n",
       "      <td>NaN</td>\n",
       "      <td>NaN</td>\n",
       "      <td>NaN</td>\n",
       "      <td>NaN</td>\n",
       "      <td>NaN</td>\n",
       "      <td>NaN</td>\n",
       "      <td>NaN</td>\n",
       "      <td>NaN</td>\n",
       "      <td>NaN</td>\n",
       "      <td>NaN</td>\n",
       "    </tr>\n",
       "    <tr>\n",
       "      <th>CAGR</th>\n",
       "      <td>0.13</td>\n",
       "      <td>0.33</td>\n",
       "      <td>0.32</td>\n",
       "      <td>0.26</td>\n",
       "      <td>0.24</td>\n",
       "      <td>0.23</td>\n",
       "      <td>0.23</td>\n",
       "      <td>0.67</td>\n",
       "      <td>0.21</td>\n",
       "      <td>0.19</td>\n",
       "      <td>...</td>\n",
       "      <td>NaN</td>\n",
       "      <td>NaN</td>\n",
       "      <td>NaN</td>\n",
       "      <td>NaN</td>\n",
       "      <td>NaN</td>\n",
       "      <td>NaN</td>\n",
       "      <td>NaN</td>\n",
       "      <td>NaN</td>\n",
       "      <td>NaN</td>\n",
       "      <td>NaN</td>\n",
       "    </tr>\n",
       "    <tr>\n",
       "      <th>Sharpe Ratio</th>\n",
       "      <td>1.19</td>\n",
       "      <td>2.71</td>\n",
       "      <td>2.96</td>\n",
       "      <td>2.29</td>\n",
       "      <td>2.02</td>\n",
       "      <td>1.19</td>\n",
       "      <td>1.91</td>\n",
       "      <td>2.17</td>\n",
       "      <td>1.01</td>\n",
       "      <td>1.93</td>\n",
       "      <td>...</td>\n",
       "      <td>NaN</td>\n",
       "      <td>NaN</td>\n",
       "      <td>NaN</td>\n",
       "      <td>NaN</td>\n",
       "      <td>NaN</td>\n",
       "      <td>NaN</td>\n",
       "      <td>NaN</td>\n",
       "      <td>NaN</td>\n",
       "      <td>NaN</td>\n",
       "      <td>NaN</td>\n",
       "    </tr>\n",
       "    <tr>\n",
       "      <th>Max Drawdown</th>\n",
       "      <td>0.06</td>\n",
       "      <td>0.04</td>\n",
       "      <td>0.04</td>\n",
       "      <td>0.07</td>\n",
       "      <td>0.05</td>\n",
       "      <td>0.11</td>\n",
       "      <td>0.07</td>\n",
       "      <td>0.14</td>\n",
       "      <td>0.20</td>\n",
       "      <td>0.05</td>\n",
       "      <td>...</td>\n",
       "      <td>NaN</td>\n",
       "      <td>NaN</td>\n",
       "      <td>NaN</td>\n",
       "      <td>NaN</td>\n",
       "      <td>NaN</td>\n",
       "      <td>NaN</td>\n",
       "      <td>NaN</td>\n",
       "      <td>NaN</td>\n",
       "      <td>NaN</td>\n",
       "      <td>NaN</td>\n",
       "    </tr>\n",
       "    <tr>\n",
       "      <th>Calmar</th>\n",
       "      <td>2.24</td>\n",
       "      <td>7.72</td>\n",
       "      <td>7.26</td>\n",
       "      <td>3.42</td>\n",
       "      <td>5.21</td>\n",
       "      <td>2.04</td>\n",
       "      <td>3.29</td>\n",
       "      <td>4.82</td>\n",
       "      <td>1.08</td>\n",
       "      <td>3.57</td>\n",
       "      <td>...</td>\n",
       "      <td>NaN</td>\n",
       "      <td>NaN</td>\n",
       "      <td>NaN</td>\n",
       "      <td>NaN</td>\n",
       "      <td>NaN</td>\n",
       "      <td>NaN</td>\n",
       "      <td>NaN</td>\n",
       "      <td>NaN</td>\n",
       "      <td>NaN</td>\n",
       "      <td>NaN</td>\n",
       "    </tr>\n",
       "    <tr>\n",
       "      <th>Max Drawdown Duration</th>\n",
       "      <td>84</td>\n",
       "      <td>32</td>\n",
       "      <td>47</td>\n",
       "      <td>58</td>\n",
       "      <td>16</td>\n",
       "      <td>241</td>\n",
       "      <td>12</td>\n",
       "      <td>62</td>\n",
       "      <td>258</td>\n",
       "      <td>48</td>\n",
       "      <td>...</td>\n",
       "      <td>NaN</td>\n",
       "      <td>NaN</td>\n",
       "      <td>NaN</td>\n",
       "      <td>NaN</td>\n",
       "      <td>NaN</td>\n",
       "      <td>NaN</td>\n",
       "      <td>NaN</td>\n",
       "      <td>NaN</td>\n",
       "      <td>NaN</td>\n",
       "      <td>NaN</td>\n",
       "    </tr>\n",
       "    <tr>\n",
       "      <th>Traded Days %</th>\n",
       "      <td>0.57</td>\n",
       "      <td>0.61</td>\n",
       "      <td>0.60</td>\n",
       "      <td>0.54</td>\n",
       "      <td>0.53</td>\n",
       "      <td>0.43</td>\n",
       "      <td>0.56</td>\n",
       "      <td>0.55</td>\n",
       "      <td>0.51</td>\n",
       "      <td>0.49</td>\n",
       "      <td>...</td>\n",
       "      <td>NaN</td>\n",
       "      <td>NaN</td>\n",
       "      <td>NaN</td>\n",
       "      <td>NaN</td>\n",
       "      <td>NaN</td>\n",
       "      <td>NaN</td>\n",
       "      <td>NaN</td>\n",
       "      <td>NaN</td>\n",
       "      <td>NaN</td>\n",
       "      <td>NaN</td>\n",
       "    </tr>\n",
       "    <tr>\n",
       "      <th>Winner Days %</th>\n",
       "      <td>0.55</td>\n",
       "      <td>0.60</td>\n",
       "      <td>0.59</td>\n",
       "      <td>0.58</td>\n",
       "      <td>0.56</td>\n",
       "      <td>0.52</td>\n",
       "      <td>0.54</td>\n",
       "      <td>0.58</td>\n",
       "      <td>0.52</td>\n",
       "      <td>0.57</td>\n",
       "      <td>...</td>\n",
       "      <td>NaN</td>\n",
       "      <td>NaN</td>\n",
       "      <td>NaN</td>\n",
       "      <td>NaN</td>\n",
       "      <td>NaN</td>\n",
       "      <td>NaN</td>\n",
       "      <td>NaN</td>\n",
       "      <td>NaN</td>\n",
       "      <td>NaN</td>\n",
       "      <td>NaN</td>\n",
       "    </tr>\n",
       "    <tr>\n",
       "      <th>Avg Trade</th>\n",
       "      <td>0.00</td>\n",
       "      <td>0.00</td>\n",
       "      <td>0.00</td>\n",
       "      <td>0.00</td>\n",
       "      <td>0.00</td>\n",
       "      <td>0.00</td>\n",
       "      <td>0.00</td>\n",
       "      <td>0.01</td>\n",
       "      <td>0.00</td>\n",
       "      <td>0.00</td>\n",
       "      <td>...</td>\n",
       "      <td>NaN</td>\n",
       "      <td>NaN</td>\n",
       "      <td>NaN</td>\n",
       "      <td>NaN</td>\n",
       "      <td>NaN</td>\n",
       "      <td>NaN</td>\n",
       "      <td>NaN</td>\n",
       "      <td>NaN</td>\n",
       "      <td>NaN</td>\n",
       "      <td>NaN</td>\n",
       "    </tr>\n",
       "    <tr>\n",
       "      <th>Avg Win</th>\n",
       "      <td>0.01</td>\n",
       "      <td>0.01</td>\n",
       "      <td>0.01</td>\n",
       "      <td>0.01</td>\n",
       "      <td>0.01</td>\n",
       "      <td>0.02</td>\n",
       "      <td>0.01</td>\n",
       "      <td>0.02</td>\n",
       "      <td>0.02</td>\n",
       "      <td>0.01</td>\n",
       "      <td>...</td>\n",
       "      <td>NaN</td>\n",
       "      <td>NaN</td>\n",
       "      <td>NaN</td>\n",
       "      <td>NaN</td>\n",
       "      <td>NaN</td>\n",
       "      <td>NaN</td>\n",
       "      <td>NaN</td>\n",
       "      <td>NaN</td>\n",
       "      <td>NaN</td>\n",
       "      <td>NaN</td>\n",
       "    </tr>\n",
       "    <tr>\n",
       "      <th>Avg Loss</th>\n",
       "      <td>-0.01</td>\n",
       "      <td>-0.01</td>\n",
       "      <td>-0.01</td>\n",
       "      <td>-0.01</td>\n",
       "      <td>-0.01</td>\n",
       "      <td>-0.01</td>\n",
       "      <td>-0.01</td>\n",
       "      <td>-0.02</td>\n",
       "      <td>-0.01</td>\n",
       "      <td>-0.01</td>\n",
       "      <td>...</td>\n",
       "      <td>NaN</td>\n",
       "      <td>NaN</td>\n",
       "      <td>NaN</td>\n",
       "      <td>NaN</td>\n",
       "      <td>NaN</td>\n",
       "      <td>NaN</td>\n",
       "      <td>NaN</td>\n",
       "      <td>NaN</td>\n",
       "      <td>NaN</td>\n",
       "      <td>NaN</td>\n",
       "    </tr>\n",
       "  </tbody>\n",
       "</table>\n",
       "<p>11 rows × 114 columns</p>\n",
       "</div>"
      ],
      "text/plain": [
       "                        0     1     2     3     4     5     6     7     8    \\\n",
       "PnL                    0.16  0.39  0.37  0.30  0.28  0.27  0.27  0.81  0.25   \n",
       "CAGR                   0.13  0.33  0.32  0.26  0.24  0.23  0.23  0.67  0.21   \n",
       "Sharpe Ratio           1.19  2.71  2.96  2.29  2.02  1.19  1.91  2.17  1.01   \n",
       "Max Drawdown           0.06  0.04  0.04  0.07  0.05  0.11  0.07  0.14  0.20   \n",
       "Calmar                 2.24  7.72  7.26  3.42  5.21  2.04  3.29  4.82  1.08   \n",
       "Max Drawdown Duration    84    32    47    58    16   241    12    62   258   \n",
       "Traded Days %          0.57  0.61  0.60  0.54  0.53  0.43  0.56  0.55  0.51   \n",
       "Winner Days %          0.55  0.60  0.59  0.58  0.56  0.52  0.54  0.58  0.52   \n",
       "Avg Trade              0.00  0.00  0.00  0.00  0.00  0.00  0.00  0.01  0.00   \n",
       "Avg Win                0.01  0.01  0.01  0.01  0.01  0.02  0.01  0.02  0.02   \n",
       "Avg Loss              -0.01 -0.01 -0.01 -0.01 -0.01 -0.01 -0.01 -0.02 -0.01   \n",
       "\n",
       "                        9   ...   104  105  106  107  108  109  110  111  112  \\\n",
       "PnL                    0.22 ...   NaN  NaN  NaN  NaN  NaN  NaN  NaN  NaN  NaN   \n",
       "CAGR                   0.19 ...   NaN  NaN  NaN  NaN  NaN  NaN  NaN  NaN  NaN   \n",
       "Sharpe Ratio           1.93 ...   NaN  NaN  NaN  NaN  NaN  NaN  NaN  NaN  NaN   \n",
       "Max Drawdown           0.05 ...   NaN  NaN  NaN  NaN  NaN  NaN  NaN  NaN  NaN   \n",
       "Calmar                 3.57 ...   NaN  NaN  NaN  NaN  NaN  NaN  NaN  NaN  NaN   \n",
       "Max Drawdown Duration    48 ...   NaN  NaN  NaN  NaN  NaN  NaN  NaN  NaN  NaN   \n",
       "Traded Days %          0.49 ...   NaN  NaN  NaN  NaN  NaN  NaN  NaN  NaN  NaN   \n",
       "Winner Days %          0.57 ...   NaN  NaN  NaN  NaN  NaN  NaN  NaN  NaN  NaN   \n",
       "Avg Trade              0.00 ...   NaN  NaN  NaN  NaN  NaN  NaN  NaN  NaN  NaN   \n",
       "Avg Win                0.01 ...   NaN  NaN  NaN  NaN  NaN  NaN  NaN  NaN  NaN   \n",
       "Avg Loss              -0.01 ...   NaN  NaN  NaN  NaN  NaN  NaN  NaN  NaN  NaN   \n",
       "\n",
       "                       113  \n",
       "PnL                    NaN  \n",
       "CAGR                   NaN  \n",
       "Sharpe Ratio           NaN  \n",
       "Max Drawdown           NaN  \n",
       "Calmar                 NaN  \n",
       "Max Drawdown Duration  NaN  \n",
       "Traded Days %          NaN  \n",
       "Winner Days %          NaN  \n",
       "Avg Trade              NaN  \n",
       "Avg Win                NaN  \n",
       "Avg Loss               NaN  \n",
       "\n",
       "[11 rows x 114 columns]"
      ]
     },
     "execution_count": 13,
     "metadata": {},
     "output_type": "execute_result"
    }
   ],
   "source": [
    "results_table"
   ]
  },
  {
   "cell_type": "code",
   "execution_count": 132,
   "metadata": {
    "collapsed": true
   },
   "outputs": [],
   "source": [
    "results_table.to_csv('results.csv')"
   ]
  },
  {
   "cell_type": "code",
   "execution_count": null,
   "metadata": {
    "collapsed": true
   },
   "outputs": [],
   "source": []
  },
  {
   "cell_type": "code",
   "execution_count": null,
   "metadata": {
    "collapsed": true
   },
   "outputs": [],
   "source": []
  },
  {
   "cell_type": "code",
   "execution_count": 36,
   "metadata": {
    "collapsed": false
   },
   "outputs": [
    {
     "name": "stderr",
     "output_type": "stream",
     "text": [
      "C:\\Users\\hipo\\Dropbox\\Trading\\Code\\Cross-sectional MR Naive plus ML\\cross_sectional_MR_naive_plus_ML.py:187: FutureWarning: sort(....) is deprecated, use sort_index(.....)\n",
      "  #High\n",
      "C:\\Users\\hipo\\Dropbox\\Trading\\Code\\Cross-sectional MR Naive plus ML\\cross_sectional_MR_naive_plus_ML.py:191: FutureWarning: sort(....) is deprecated, use sort_index(.....)\n",
      "  #Low\n",
      "C:\\Users\\hipo\\Dropbox\\Trading\\Code\\Cross-sectional MR Naive plus ML\\cross_sectional_MR_naive_plus_ML.py:195: FutureWarning: sort(....) is deprecated, use sort_index(.....)\n",
      "  #Volume\n",
      "C:\\Users\\hipo\\Dropbox\\Trading\\Code\\Cross-sectional MR Naive plus ML\\cross_sectional_MR_naive_plus_ML.py:199: FutureWarning: sort(....) is deprecated, use sort_index(.....)\n",
      "  \n",
      "C:\\Users\\hipo\\Dropbox\\Trading\\Code\\Cross-sectional MR Naive plus ML\\features.py:139: FutureWarning: pd.ewm_mean is deprecated for DataFrame and will be removed in a future version, replace with \n",
      "\tDataFrame.ewm(span=5,min_periods=0,adjust=True,ignore_na=False).mean()\n",
      "  ema=pd.ewma(data,span=5)\n",
      "C:\\Users\\hipo\\Dropbox\\Trading\\Code\\Cross-sectional MR Naive plus ML\\features.py:142: FutureWarning: pd.ewm_mean is deprecated for DataFrame and will be removed in a future version, replace with \n",
      "\tDataFrame.ewm(span=10,min_periods=0,adjust=True,ignore_na=False).mean()\n",
      "  ema=pd.ewma(data,span=10)\n",
      "C:\\Users\\hipo\\Dropbox\\Trading\\Code\\Cross-sectional MR Naive plus ML\\features.py:148: FutureWarning: pd.ewm_mean is deprecated for DataFrame and will be removed in a future version, replace with \n",
      "\tDataFrame.ewm(span=10,min_periods=0,adjust=True,ignore_na=False).mean()\n",
      "  ema=pd.ewma(data,span=bollinger_days)\n"
     ]
    }
   ],
   "source": [
    "strat1=cross_sectional_MR_naive_plus_ML(dataClose,dataHigh,dataLow,dataVolume,cl_production, stock_list,\n",
    "                 data_start,data_end,backtest_start,backtest_end, train_window, test_window,\n",
    "                 stock_ids, option)\n",
    "strat1.cleaning_data()\n",
    "strat1.features()\n",
    "strat1.labels()\n",
    "strat1.cleaning_features_and_labels()\n",
    "strat1.training_and_predicting()\n",
    "strat1.computing_returns()"
   ]
  },
  {
   "cell_type": "code",
   "execution_count": 37,
   "metadata": {
    "collapsed": false
   },
   "outputs": [
    {
     "data": {
      "text/html": [
       "<div>\n",
       "<table border=\"1\" class=\"dataframe\">\n",
       "  <thead>\n",
       "    <tr style=\"text-align: right;\">\n",
       "      <th></th>\n",
       "      <th>PnL Metrics</th>\n",
       "    </tr>\n",
       "  </thead>\n",
       "  <tbody>\n",
       "    <tr>\n",
       "      <th>PnL</th>\n",
       "      <td>-0.4588</td>\n",
       "    </tr>\n",
       "    <tr>\n",
       "      <th>CAGR</th>\n",
       "      <td>-0.1407</td>\n",
       "    </tr>\n",
       "    <tr>\n",
       "      <th>Sharpe Ratio</th>\n",
       "      <td>-0.2594</td>\n",
       "    </tr>\n",
       "    <tr>\n",
       "      <th>Max Drawdown</th>\n",
       "      <td>1.1975</td>\n",
       "    </tr>\n",
       "    <tr>\n",
       "      <th>Calmar</th>\n",
       "      <td>-0.1175</td>\n",
       "    </tr>\n",
       "    <tr>\n",
       "      <th>Max Drawdown Duration</th>\n",
       "      <td>0</td>\n",
       "    </tr>\n",
       "    <tr>\n",
       "      <th>Traded Days %</th>\n",
       "      <td>0.5539</td>\n",
       "    </tr>\n",
       "    <tr>\n",
       "      <th>Winner Days %</th>\n",
       "      <td>0.4956</td>\n",
       "    </tr>\n",
       "    <tr>\n",
       "      <th>Avg Trade</th>\n",
       "      <td>-0.0008</td>\n",
       "    </tr>\n",
       "    <tr>\n",
       "      <th>Avg Win</th>\n",
       "      <td>0.0257</td>\n",
       "    </tr>\n",
       "    <tr>\n",
       "      <th>Avg Loss</th>\n",
       "      <td>-0.0269</td>\n",
       "    </tr>\n",
       "  </tbody>\n",
       "</table>\n",
       "</div>"
      ],
      "text/plain": [
       "                      PnL Metrics\n",
       "PnL                       -0.4588\n",
       "CAGR                      -0.1407\n",
       "Sharpe Ratio              -0.2594\n",
       "Max Drawdown               1.1975\n",
       "Calmar                    -0.1175\n",
       "Max Drawdown Duration           0\n",
       "Traded Days %              0.5539\n",
       "Winner Days %              0.4956\n",
       "Avg Trade                 -0.0008\n",
       "Avg Win                    0.0257\n",
       "Avg Loss                  -0.0269"
      ]
     },
     "execution_count": 37,
     "metadata": {},
     "output_type": "execute_result"
    }
   ],
   "source": [
    "pd.options.display.float_format = '{:,.4f}'.format\n",
    "strat1.results_table_df"
   ]
  },
  {
   "cell_type": "code",
   "execution_count": 38,
   "metadata": {
    "collapsed": false
   },
   "outputs": [
    {
     "data": {
      "text/plain": [
       "<matplotlib.axes._subplots.AxesSubplot at 0x14af7e8ea58>"
      ]
     },
     "execution_count": 38,
     "metadata": {},
     "output_type": "execute_result"
    },
    {
     "data": {
      "image/png": "[encoded data removed]",
      "text/plain": [
       "<matplotlib.figure.Figure at 0x14af9693b38>"
      ]
     },
     "metadata": {},
     "output_type": "display_data"
    }
   ],
   "source": [
    "(strat1.pnl_daily.cumsum()).plot()"
   ]
  },
  {
   "cell_type": "code",
   "execution_count": null,
   "metadata": {
    "collapsed": true
   },
   "outputs": [],
   "source": []
  },
  {
   "cell_type": "code",
   "execution_count": 39,
   "metadata": {
    "collapsed": false
   },
   "outputs": [
    {
     "data": {
      "text/html": [
       "<div>\n",
       "<table border=\"1\" class=\"dataframe\">\n",
       "  <thead>\n",
       "    <tr style=\"text-align: right;\">\n",
       "      <th></th>\n",
       "      <th>PnL Metrics</th>\n",
       "    </tr>\n",
       "  </thead>\n",
       "  <tbody>\n",
       "    <tr>\n",
       "      <th>PnL</th>\n",
       "      <td>-0.4588</td>\n",
       "    </tr>\n",
       "    <tr>\n",
       "      <th>CAGR</th>\n",
       "      <td>-0.1407</td>\n",
       "    </tr>\n",
       "    <tr>\n",
       "      <th>Sharpe Ratio</th>\n",
       "      <td>-0.2594</td>\n",
       "    </tr>\n",
       "    <tr>\n",
       "      <th>Max Drawdown</th>\n",
       "      <td>1.1975</td>\n",
       "    </tr>\n",
       "    <tr>\n",
       "      <th>Calmar</th>\n",
       "      <td>-0.1175</td>\n",
       "    </tr>\n",
       "    <tr>\n",
       "      <th>Max Drawdown Duration</th>\n",
       "      <td>0</td>\n",
       "    </tr>\n",
       "    <tr>\n",
       "      <th>Traded Days %</th>\n",
       "      <td>0.5539</td>\n",
       "    </tr>\n",
       "    <tr>\n",
       "      <th>Winner Days %</th>\n",
       "      <td>0.4956</td>\n",
       "    </tr>\n",
       "    <tr>\n",
       "      <th>Avg Trade</th>\n",
       "      <td>-0.0008</td>\n",
       "    </tr>\n",
       "    <tr>\n",
       "      <th>Avg Win</th>\n",
       "      <td>0.0257</td>\n",
       "    </tr>\n",
       "    <tr>\n",
       "      <th>Avg Loss</th>\n",
       "      <td>-0.0269</td>\n",
       "    </tr>\n",
       "  </tbody>\n",
       "</table>\n",
       "</div>"
      ],
      "text/plain": [
       "                      PnL Metrics\n",
       "PnL                       -0.4588\n",
       "CAGR                      -0.1407\n",
       "Sharpe Ratio              -0.2594\n",
       "Max Drawdown               1.1975\n",
       "Calmar                    -0.1175\n",
       "Max Drawdown Duration           0\n",
       "Traded Days %              0.5539\n",
       "Winner Days %              0.4956\n",
       "Avg Trade                 -0.0008\n",
       "Avg Win                    0.0257\n",
       "Avg Loss                  -0.0269"
      ]
     },
     "execution_count": 39,
     "metadata": {},
     "output_type": "execute_result"
    }
   ],
   "source": [
    "pd.options.display.float_format = '{:,.4f}'.format\n",
    "strat1.results_table_df"
   ]
  },
  {
   "cell_type": "code",
   "execution_count": 40,
   "metadata": {
    "collapsed": false
   },
   "outputs": [
    {
     "data": {
      "text/plain": [
       "<matplotlib.axes._subplots.AxesSubplot at 0x14af7edcc18>"
      ]
     },
     "execution_count": 40,
     "metadata": {},
     "output_type": "execute_result"
    },
    {
     "data": {
      "image/png": "[encoded data removed]",
      "text/plain": [
       "<matplotlib.figure.Figure at 0x14af7e49470>"
      ]
     },
     "metadata": {},
     "output_type": "display_data"
    }
   ],
   "source": [
    "(strat1.pnl_daily.cumsum()).plot()"
   ]
  },
  {
   "cell_type": "code",
   "execution_count": 16,
   "metadata": {
    "collapsed": false
   },
   "outputs": [
    {
     "data": {
      "text/plain": [
       "0.18186969220379645"
      ]
     },
     "execution_count": 16,
     "metadata": {},
     "output_type": "execute_result"
    }
   ],
   "source": [
    "strat1.pnl_daily.sum()"
   ]
  },
  {
   "cell_type": "code",
   "execution_count": 17,
   "metadata": {
    "collapsed": true
   },
   "outputs": [],
   "source": [
    "strat1.pnl_daily.to_csv('pnl2.csv')"
   ]
  },
  {
   "cell_type": "code",
   "execution_count": null,
   "metadata": {
    "collapsed": true
   },
   "outputs": [],
   "source": []
  },
  {
   "cell_type": "code",
   "execution_count": null,
   "metadata": {
    "collapsed": true
   },
   "outputs": [],
   "source": []
  }
 ],
 "metadata": {
  "anaconda-cloud": {},
  "kernelspec": {
   "display_name": "Python 3",
   "language": "python",
   "name": "python3"
  },
  "language_info": {
   "codemirror_mode": {
    "name": "ipython",
    "version": 3
   },
   "file_extension": ".py",
   "mimetype": "text/x-python",
   "name": "python",
   "nbconvert_exporter": "python",
   "pygments_lexer": "ipython3",
   "version": "3.6.0"
  }
 },
 "nbformat": 4,
 "nbformat_minor": 1
}
